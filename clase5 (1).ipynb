{
  "nbformat": 4,
  "nbformat_minor": 0,
  "metadata": {
    "colab": {
      "provenance": []
    },
    "kernelspec": {
      "name": "python3",
      "display_name": "Python 3"
    },
    "language_info": {
      "name": "python"
    }
  },
  "cells": [
    {
      "cell_type": "code",
      "execution_count": null,
      "metadata": {
        "colab": {
          "base_uri": "https://localhost:8080/"
        },
        "id": "Detf37O6Lbuh",
        "outputId": "31037650-e060-4273-e08c-b53b8176b17e"
      },
      "outputs": [
        {
          "output_type": "stream",
          "name": "stdout",
          "text": [
            "ingrese una numero:3\n",
            "9 27\n"
          ]
        }
      ],
      "source": [
        "a= int(input(\"ingrese una numero:\"))\n",
        "print(a**2,a**3)"
      ]
    },
    {
      "cell_type": "code",
      "source": [
        "b=int(input(\"ingrese salario 1:\"))\n",
        "c=int(input(\"ingrese salario 2:\"))\n",
        "d=int(input(\"ingrese salario 3:\"))\n",
        "print (b*0.1,c*0.2,d*0.5)"
      ],
      "metadata": {
        "id": "LoZsrkqMMeUj"
      },
      "execution_count": null,
      "outputs": []
    },
    {
      "cell_type": "code",
      "source": [
        "a=int(input(\"ingrese los pasos:\"))\n",
        "b=a*45\n",
        "print(b*1000)\n",
        "\n"
      ],
      "metadata": {
        "colab": {
          "base_uri": "https://localhost:8080/"
        },
        "id": "eKNVl_PMNQP4",
        "outputId": "6dde0a9c-a606-4061-bae0-922348e72f32"
      },
      "execution_count": null,
      "outputs": [
        {
          "output_type": "stream",
          "name": "stdout",
          "text": [
            "ingrese los pasos:4\n",
            "180000\n"
          ]
        }
      ]
    },
    {
      "cell_type": "code",
      "source": [
        "if a ==4:\n",
        "  j=int(input(\"numero adicional\"))\n",
        "  b=str(j)+\"veces\"\n",
        "  print(\"verdadero\")\n",
        "  b=\"hola mundo\"\n",
        "  print(b)"
      ],
      "metadata": {
        "colab": {
          "base_uri": "https://localhost:8080/"
        },
        "id": "3TJPBz-qQteM",
        "outputId": "00ad52f6-9ceb-415e-c36e-6da3347ae754"
      },
      "execution_count": null,
      "outputs": [
        {
          "output_type": "stream",
          "name": "stdout",
          "text": [
            "numero adicional4\n",
            "verdadero\n",
            "hola mundo\n"
          ]
        }
      ]
    },
    {
      "cell_type": "code",
      "source": [
        "a=int(input(\"ingrese el valor 1 :\"))\n",
        "b=int(input(\"ingrese el valor 2 :\"))\n",
        "if a==b:\n",
        "  print(\"los valores son iguales\")\n",
        "if  a>b:\n",
        "  print(\"el valor 1 es mayor que el valor b \")\n",
        "if  b>a:\n",
        "      print(\"el valor 2 es mayor que el valor 1\")"
      ],
      "metadata": {
        "id": "DHG5uUi-R52m"
      },
      "execution_count": null,
      "outputs": []
    },
    {
      "cell_type": "code",
      "source": [
        "n1 = int(input(\"Ingrese su nota 30%: \"))\n",
        "n2 = int(input(\"Ingrese su nota 15%: \"))\n",
        "n3 = int(input(\"Ingrese su nota 15%: \"))\n",
        "n4 = int(input(\"Ingrese su nota 20%: \"))\n",
        "n5 = int(input(\"Ingrese su nota 20%: \"))\n",
        "\n",
        "promedio = (n1 * 0.30 + n2 * 0.15 + n3 * 0.15 + n4 * 0.20 + n5 * 0.20) / 5\n",
        "\n",
        "print(\"Su promedio es:\", promedio)\n",
        "\n"
      ],
      "metadata": {
        "id": "cgRdYVeYVd6k"
      },
      "execution_count": null,
      "outputs": []
    },
    {
      "cell_type": "markdown",
      "source": [
        "profe, envio lo realizado en clase, me faltaron unos ejercicios porque no encontre la diapositiva en el teams donde estaban\n"
      ],
      "metadata": {
        "id": "z0V8_uaeVoyH"
      }
    }
  ]
}